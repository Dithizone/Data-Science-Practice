{
 "cells": [
  {
   "metadata": {},
   "cell_type": "markdown",
   "source": "<p style=\"text-align:center\">\n    <a href=\"https://skills.network\" target=\"_blank\">\n    <img src=\"https://cf-courses-data.s3.us.cloud-object-storage.appdomain.cloud/assets/logos/SN_web_lightmode.png\" width=\"200\" alt=\"Skills Network Logo\">\n    </a>\n</p>\n\n<h1 align=center><font size = 5>Assignment: SQL Notebook for Peer Assignment</font></h1>\n\nEstimated time needed: **60** minutes.\n\n## Introduction\nUsing this Python notebook you will:\n\n1.  Understand the Spacex DataSet\n2.  Load the dataset  into the corresponding table in a Db2 database\n3.  Execute SQL queries to answer assignment questions \n"
  },
  {
   "metadata": {},
   "cell_type": "markdown",
   "source": "## Overview of the DataSet\n\nSpaceX has gained worldwide attention for a series of historic milestones. \n\nIt is the only private company ever to return a spacecraft from low-earth orbit, which it first accomplished in December 2010.\nSpaceX advertises Falcon 9 rocket launches on its website with a cost of 62 million dollars wheras other providers cost upward of 165 million dollars each, much of the savings is because Space X can reuse the first stage. \n\n\nTherefore if we can determine if the first stage will land, we can determine the cost of a launch. \n\nThis information can be used if an alternate company wants to bid against SpaceX for a rocket launch.\n\nThis dataset includes a record for each payload carried during a SpaceX mission into outer space.\n"
  },
  {
   "metadata": {},
   "cell_type": "markdown",
   "source": "### Download the datasets\n\nThis assignment requires you to load the spacex dataset.\n\nIn many cases the dataset to be analyzed is available as a .CSV (comma separated values) file, perhaps on the internet. Click on the link below to download and save the dataset (.CSV file):\n\n <a href=\"https://cf-courses-data.s3.us.cloud-object-storage.appdomain.cloud/IBM-DS0321EN-SkillsNetwork/labs/module_2/data/Spacex.csv\" target=\"_blank\">Spacex DataSet</a>\n\n"
  },
  {
   "metadata": {
    "trusted": false
   },
   "cell_type": "code",
   "source": "# !pip install sqlalchemy==1.3.9\n",
   "execution_count": 1,
   "outputs": [
    {
     "name": "stdout",
     "output_type": "stream",
     "text": "Collecting sqlalchemy==1.3.9\n  Downloading SQLAlchemy-1.3.9.tar.gz (6.0 MB)\n\u001b[2K     \u001b[90m━━━━━━━━━━━━━━━━━━━━━━━━━━━━━━━━━━━━━━━━\u001b[0m \u001b[32m6.0/6.0 MB\u001b[0m \u001b[31m118.3 MB/s\u001b[0m eta \u001b[36m0:00:00\u001b[0m\n  Preparing metadata (setup.py) ... \u001b[?25done\n\u001b[?25hBuilding wheels for collected packages: sqlalchemy\n  Building wheel for sqlalchemy (setup.py) ...done\n\u001b[?25h  Created wheel for sqlalchemy: filename=SQLAlchemy-1.3.9-cp312-cp312-linux_x86_64.whl size=1160111 sha256=6e075fc98230ca6104029f3cc876523fbe8ab38ef8c2d598d71c2493e73d23ab\n  Stored in directory: /home/jupyterlab/.cache/pip/wheels/b3/1c/42/0e26b8d512adc6bce10ff71a05229366b4ccec641cd3b42111\nSuccessfully built sqlalchemy\nInstalling collected packages: sqlalchemy\n  Attempting uninstall: sqlalchemy\n    Found existing installation: SQLAlchemy 2.0.37\n    Uninstalling SQLAlchemy-2.0.37:\n      Successfully uninstalled SQLAlchemy-2.0.37\n\u001b[31mERROR: pip's dependency resolver does not currently take into account all the packages that are installed. This behaviour is the source of the following dependency conflicts.\njupyterhub 5.2.1 requires SQLAlchemy>=1.4.1, but you have sqlalchemy 1.3.9 which is incompatible.\u001b[0m\u001b[31m\n\u001b[0mSuccessfully installed sqlalchemy-1.3.9\n"
    }
   ]
  },
  {
   "metadata": {},
   "cell_type": "markdown",
   "source": "### Connect to the database\n\nLet us first load the SQL extension and establish a connection with the database\n"
  },
  {
   "metadata": {
    "trusted": false
   },
   "cell_type": "code",
   "source": "# !pip install ipython-sql\n# !pip install ipython-sql prettytable",
   "execution_count": 2,
   "outputs": [
    {
     "name": "stdout",
     "output_type": "stream",
     "text": "Collecting ipython-sql\n  Downloading ipython_sql-0.5.0-py3-none-any.whl.metadata (17 kB)\nCollecting prettytable (from ipython-sql)\n  Downloading prettytable-3.16.0-py3-none-any.whl.metadata (33 kB)\nRequirement already satisfied: ipython in /opt/conda/lib/python3.12/site-packages (from ipython-sql) (8.31.0)\nCollecting sqlalchemy>=2.0 (from ipython-sql)\n  Downloading sqlalchemy-2.0.43-cp312-cp312-manylinux_2_17_x86_64.manylinux2014_x86_64.whl.metadata (9.6 kB)\nCollecting sqlparse (from ipython-sql)\n  Downloading sqlparse-0.5.3-py3-none-any.whl.metadata (3.9 kB)\nRequirement already satisfied: six in /opt/conda/lib/python3.12/site-packages (from ipython-sql) (1.17.0)\nRequirement already satisfied: ipython-genutils in /opt/conda/lib/python3.12/site-packages (from ipython-sql) (0.2.0)\nRequirement already satisfied: greenlet>=1 in /opt/conda/lib/python3.12/site-packages (from sqlalchemy>=2.0->ipython-sql) (3.1.1)\nRequirement already satisfied: typing-extensions>=4.6.0 in /opt/conda/lib/python3.12/site-packages (from sqlalchemy>=2.0->ipython-sql) (4.12.2)\nRequirement already satisfied: decorator in /opt/conda/lib/python3.12/site-packages (from ipython->ipython-sql) (5.1.1)\nRequirement already satisfied: jedi>=0.16 in /opt/conda/lib/python3.12/site-packages (from ipython->ipython-sql) (0.19.2)\nRequirement already satisfied: matplotlib-inline in /opt/conda/lib/python3.12/site-packages (from ipython->ipython-sql) (0.1.7)\nRequirement already satisfied: pexpect>4.3 in /opt/conda/lib/python3.12/site-packages (from ipython->ipython-sql) (4.9.0)\nRequirement already satisfied: prompt_toolkit<3.1.0,>=3.0.41 in /opt/conda/lib/python3.12/site-packages (from ipython->ipython-sql) (3.0.50)\nRequirement already satisfied: pygments>=2.4.0 in /opt/conda/lib/python3.12/site-packages (from ipython->ipython-sql) (2.19.1)\nRequirement already satisfied: stack_data in /opt/conda/lib/python3.12/site-packages (from ipython->ipython-sql) (0.6.3)\nRequirement already satisfied: traitlets>=5.13.0 in /opt/conda/lib/python3.12/site-packages (from ipython->ipython-sql) (5.14.3)\nRequirement already satisfied: wcwidth in /opt/conda/lib/python3.12/site-packages (from prettytable->ipython-sql) (0.2.13)\nRequirement already satisfied: parso<0.9.0,>=0.8.4 in /opt/conda/lib/python3.12/site-packages (from jedi>=0.16->ipython->ipython-sql) (0.8.4)\nRequirement already satisfied: ptyprocess>=0.5 in /opt/conda/lib/python3.12/site-packages (from pexpect>4.3->ipython->ipython-sql) (0.7.0)\nRequirement already satisfied: executing>=1.2.0 in /opt/conda/lib/python3.12/site-packages (from stack_data->ipython->ipython-sql) (2.1.0)\nRequirement already satisfied: asttokens>=2.1.0 in /opt/conda/lib/python3.12/site-packages (from stack_data->ipython->ipython-sql) (3.0.0)\nRequirement already satisfied: pure_eval in /opt/conda/lib/python3.12/site-packages (from stack_data->ipython->ipython-sql) (0.2.3)\nDownloading ipython_sql-0.5.0-py3-none-any.whl (20 kB)\nDownloading sqlalchemy-2.0.43-cp312-cp312-manylinux_2_17_x86_64.manylinux2014_x86_64.whl (3.3 MB)\n\u001b[2K   \u001b[90m━━━━━━━━━━━━━━━━━━━━━━━━━━━━━━━━━━━━━━━━\u001b[0m \u001b[32m3.3/3.3 MB\u001b[0m \u001b[31m114.7 MB/s\u001b[0m eta \u001b[36m0:00:00\u001b[0m\n\u001b[?25hDownloading prettytable-3.16.0-py3-none-any.whl (33 kB)\nDownloading sqlparse-0.5.3-py3-none-any.whl (44 kB)\nInstalling collected packages: sqlparse, sqlalchemy, prettytable, ipython-sql\n  Attempting uninstall: sqlalchemy\n    Found existing installation: SQLAlchemy 1.3.9\n    Uninstalling SQLAlchemy-1.3.9:\n      Successfully uninstalled SQLAlchemy-1.3.9\nSuccessfully installed ipython-sql-0.5.0 prettytable-3.16.0 sqlalchemy-2.0.43 sqlparse-0.5.3\nRequirement already satisfied: ipython-sql in /opt/conda/lib/python3.12/site-packages (0.5.0)\nRequirement already satisfied: prettytable in /opt/conda/lib/python3.12/site-packages (3.16.0)\nRequirement already satisfied: ipython in /opt/conda/lib/python3.12/site-packages (from ipython-sql) (8.31.0)\nRequirement already satisfied: sqlalchemy>=2.0 in /opt/conda/lib/python3.12/site-packages (from ipython-sql) (2.0.43)\nRequirement already satisfied: sqlparse in /opt/conda/lib/python3.12/site-packages (from ipython-sql) (0.5.3)\nRequirement already satisfied: six in /opt/conda/lib/python3.12/site-packages (from ipython-sql) (1.17.0)\nRequirement already satisfied: ipython-genutils in /opt/conda/lib/python3.12/site-packages (from ipython-sql) (0.2.0)\nRequirement already satisfied: wcwidth in /opt/conda/lib/python3.12/site-packages (from prettytable) (0.2.13)\nRequirement already satisfied: greenlet>=1 in /opt/conda/lib/python3.12/site-packages (from sqlalchemy>=2.0->ipython-sql) (3.1.1)\nRequirement already satisfied: typing-extensions>=4.6.0 in /opt/conda/lib/python3.12/site-packages (from sqlalchemy>=2.0->ipython-sql) (4.12.2)\nRequirement already satisfied: decorator in /opt/conda/lib/python3.12/site-packages (from ipython->ipython-sql) (5.1.1)\nRequirement already satisfied: jedi>=0.16 in /opt/conda/lib/python3.12/site-packages (from ipython->ipython-sql) (0.19.2)\nRequirement already satisfied: matplotlib-inline in /opt/conda/lib/python3.12/site-packages (from ipython->ipython-sql) (0.1.7)\nRequirement already satisfied: pexpect>4.3 in /opt/conda/lib/python3.12/site-packages (from ipython->ipython-sql) (4.9.0)\nRequirement already satisfied: prompt_toolkit<3.1.0,>=3.0.41 in /opt/conda/lib/python3.12/site-packages (from ipython->ipython-sql) (3.0.50)\nRequirement already satisfied: pygments>=2.4.0 in /opt/conda/lib/python3.12/site-packages (from ipython->ipython-sql) (2.19.1)\nRequirement already satisfied: stack_data in /opt/conda/lib/python3.12/site-packages (from ipython->ipython-sql) (0.6.3)\nRequirement already satisfied: traitlets>=5.13.0 in /opt/conda/lib/python3.12/site-packages (from ipython->ipython-sql) (5.14.3)\nRequirement already satisfied: parso<0.9.0,>=0.8.4 in /opt/conda/lib/python3.12/site-packages (from jedi>=0.16->ipython->ipython-sql) (0.8.4)\nRequirement already satisfied: ptyprocess>=0.5 in /opt/conda/lib/python3.12/site-packages (from pexpect>4.3->ipython->ipython-sql) (0.7.0)\nRequirement already satisfied: executing>=1.2.0 in /opt/conda/lib/python3.12/site-packages (from stack_data->ipython->ipython-sql) (2.1.0)\nRequirement already satisfied: asttokens>=2.1.0 in /opt/conda/lib/python3.12/site-packages (from stack_data->ipython->ipython-sql) (3.0.0)\nRequirement already satisfied: pure_eval in /opt/conda/lib/python3.12/site-packages (from stack_data->ipython->ipython-sql) (0.2.3)\n"
    }
   ]
  },
  {
   "metadata": {
    "trusted": false
   },
   "cell_type": "code",
   "source": "%load_ext sql",
   "execution_count": 3,
   "outputs": []
  },
  {
   "metadata": {
    "trusted": false
   },
   "cell_type": "code",
   "source": "# import csv \nimport sqlite3\n# import prettytable\nprettytable.DEFAULT = 'DEFAULT'\n\ncon = sqlite3.connect(\"my_data1.db\")\ncur = con.cursor()",
   "execution_count": 4,
   "outputs": []
  },
  {
   "metadata": {
    "trusted": false
   },
   "cell_type": "code",
   "source": "# !pip install -q pandas",
   "execution_count": 5,
   "outputs": []
  },
  {
   "metadata": {
    "trusted": false
   },
   "cell_type": "code",
   "source": "%sql sqlite:///my_data1.db",
   "execution_count": 6,
   "outputs": []
  },
  {
   "metadata": {
    "trusted": false
   },
   "cell_type": "code",
   "source": "import pandas as pd\ndf = pd.read_csv(\"https://cf-courses-data.s3.us.cloud-object-storage.appdomain.cloud/IBM-DS0321EN-SkillsNetwork/labs/module_2/data/Spacex.csv\")\ndf.to_sql(\"SPACEXTBL\", con, if_exists='replace', index=False,method=\"multi\")",
   "execution_count": 7,
   "outputs": [
    {
     "data": {
      "text/plain": "101"
     },
     "execution_count": 7,
     "metadata": {},
     "output_type": "execute_result"
    }
   ]
  },
  {
   "metadata": {},
   "cell_type": "markdown",
   "source": "**Note:This below code is added to remove blank rows from table**\n"
  },
  {
   "metadata": {
    "trusted": false
   },
   "cell_type": "code",
   "source": "#DROP THE TABLE IF EXISTS\n\n%sql DROP TABLE IF EXISTS SPACEXTABLE;",
   "execution_count": 8,
   "outputs": [
    {
     "name": "stdout",
     "output_type": "stream",
     "text": " * sqlite:///my_data1.db\nDone.\n"
    },
    {
     "data": {
      "text/plain": "[]"
     },
     "execution_count": 8,
     "metadata": {},
     "output_type": "execute_result"
    }
   ]
  },
  {
   "metadata": {
    "trusted": false
   },
   "cell_type": "code",
   "source": "%sql create table SPACEXTABLE as select * from SPACEXTBL where Date is not null",
   "execution_count": 9,
   "outputs": [
    {
     "name": "stdout",
     "output_type": "stream",
     "text": " * sqlite:///my_data1.db\nDone.\n"
    },
    {
     "data": {
      "text/plain": "[]"
     },
     "execution_count": 9,
     "metadata": {},
     "output_type": "execute_result"
    }
   ]
  },
  {
   "metadata": {},
   "cell_type": "markdown",
   "source": "## Tasks\n\nNow write and execute SQL queries to solve the assignment tasks.\n\n**Note: If the column names are in mixed case enclose it in double quotes\n   For Example \"Landing_Outcome\"**\n\n### Task 1\n\n\n\n\n##### Display the names of the unique launch sites  in the space mission\n"
  },
  {
   "metadata": {
    "trusted": false
   },
   "cell_type": "code",
   "source": "%sql select distinct Launch_Site from spacextable",
   "execution_count": 11,
   "outputs": [
    {
     "name": "stdout",
     "output_type": "stream",
     "text": " * sqlite:///my_data1.db\nDone.\n"
    },
    {
     "data": {
      "text/html": "<table>\n    <thead>\n        <tr>\n            <th>Launch_Site</th>\n        </tr>\n    </thead>\n    <tbody>\n        <tr>\n            <td>CCAFS LC-40</td>\n        </tr>\n        <tr>\n            <td>VAFB SLC-4E</td>\n        </tr>\n        <tr>\n            <td>KSC LC-39A</td>\n        </tr>\n        <tr>\n            <td>CCAFS SLC-40</td>\n        </tr>\n    </tbody>\n</table>",
      "text/plain": "[('CCAFS LC-40',), ('VAFB SLC-4E',), ('KSC LC-39A',), ('CCAFS SLC-40',)]"
     },
     "execution_count": 11,
     "metadata": {},
     "output_type": "execute_result"
    }
   ]
  },
  {
   "metadata": {},
   "cell_type": "markdown",
   "source": "\n### Task 2\n\n\n#####  Display 5 records where launch sites begin with the string 'CCA' \n"
  },
  {
   "metadata": {
    "trusted": false
   },
   "cell_type": "code",
   "source": "%sql select * from spacextable where Launch_Site like 'CCA%' limit 5",
   "execution_count": null,
   "outputs": []
  },
  {
   "metadata": {},
   "cell_type": "markdown",
   "source": "### Task 3\n\n\n\n\n##### Display the total payload mass carried by boosters launched by NASA (CRS)\n"
  },
  {
   "metadata": {
    "trusted": false
   },
   "cell_type": "code",
   "source": "%sql select sum(PAYLOAD_MASS__KG_) from spacextable where Customer like 'NASA%'",
   "execution_count": null,
   "outputs": []
  },
  {
   "metadata": {},
   "cell_type": "markdown",
   "source": "### Task 4\n\n\n\n\n##### Display average payload mass carried by booster version F9 v1.1\n"
  },
  {
   "metadata": {
    "trusted": false
   },
   "cell_type": "code",
   "source": "%sql select avg(PAYLOAD_MASS__KG_) from spacextable where Booster_Version like 'F9 v1.1%'",
   "execution_count": null,
   "outputs": []
  },
  {
   "metadata": {},
   "cell_type": "markdown",
   "source": "### Task 5\n\n##### List the date when the first succesful landing outcome in ground pad was acheived.\n\n\n_Hint:Use min function_ \n"
  },
  {
   "metadata": {
    "trusted": false
   },
   "cell_type": "code",
   "source": "%sql select min(Date) from spacextable where Landing_Outcome = 'Success (ground pad)'",
   "execution_count": null,
   "outputs": []
  },
  {
   "metadata": {},
   "cell_type": "markdown",
   "source": "### Task 6\n\n##### List the names of the boosters which have success in drone ship and have payload mass greater than 4000 but less than 6000\n"
  },
  {
   "metadata": {
    "trusted": false
   },
   "cell_type": "code",
   "source": "%sql select * from spacextable where Landing_Outcome = 'Success (drone ship)' and PAYLOAD_MASS__KG_ between 4000 and 6000",
   "execution_count": null,
   "outputs": []
  },
  {
   "metadata": {},
   "cell_type": "markdown",
   "source": "### Task 7\n\n\n\n\n##### List the total number of successful and failure mission outcomes\n"
  },
  {
   "metadata": {
    "trusted": false
   },
   "cell_type": "code",
   "source": "%sql select count(*) as [Number of records], Landing_Outcome from spacextable group by Landing_Outcome",
   "execution_count": null,
   "outputs": []
  },
  {
   "metadata": {},
   "cell_type": "markdown",
   "source": "### Task 8\n\n\n\n##### List all the booster_versions that have carried the maximum payload mass, using a subquery with a suitable aggregate function.\n"
  },
  {
   "metadata": {
    "trusted": false
   },
   "cell_type": "code",
   "source": "%sql select Booster_Version, Payload, PAYLOAD_MASS__KG_ from spacextable where PAYLOAD_MASS__KG_ = (select max(PAYLOAD_MASS__KG_) from spacextable)",
   "execution_count": null,
   "outputs": []
  },
  {
   "metadata": {},
   "cell_type": "markdown",
   "source": "### Task 9\n\n\n##### List the records which will display the month names, failure landing_outcomes in drone ship ,booster versions, launch_site for the months in year 2015.\n\n**Note: SQLLite does not support monthnames. So you need to use  substr(Date, 6,2) as month to get the months and substr(Date,0,5)='2015' for year.**\n"
  },
  {
   "metadata": {
    "trusted": false
   },
   "cell_type": "code",
   "source": "%sql select Date, Landing_Outcome, Booster_Version, Launch_Site from spacextable where substr(Date,0,5) = '2015' and Landing_Outcome = 'Failure (drone ship)'",
   "execution_count": null,
   "outputs": []
  },
  {
   "metadata": {},
   "cell_type": "markdown",
   "source": "### Task 10\n\n\n\n\n##### Rank the count of landing outcomes (such as Failure (drone ship) or Success (ground pad)) between the date 2010-06-04 and 2017-03-20, in descending order.\n"
  },
  {
   "metadata": {
    "trusted": false
   },
   "cell_type": "code",
   "source": "%%sql select Landing_Outcome, count(Landing_Outcome) as [quantity] \n    from spacextable \n    where Date between '2010-06-04' and '2017-03-20' \n    group by Landing_Outcome \n    order by quantity desc",
   "execution_count": null,
   "outputs": []
  },
  {
   "metadata": {},
   "cell_type": "markdown",
   "source": "### Reference Links\n\n* <a href =\"https://cf-courses-data.s3.us.cloud-object-storage.appdomain.cloud/IBMDeveloperSkillsNetwork-DB0201EN-SkillsNetwork/labs/Labs_Coursera_V5/labs/Lab%20-%20String%20Patterns%20-%20Sorting%20-%20Grouping/instructional-labs.md.html?origin=www.coursera.org\">Hands-on Lab : String Patterns, Sorting and Grouping</a>  \n\n*  <a  href=\"https://cf-courses-data.s3.us.cloud-object-storage.appdomain.cloud/IBMDeveloperSkillsNetwork-DB0201EN-SkillsNetwork/labs/Labs_Coursera_V5/labs/Lab%20-%20Built-in%20functions%20/Hands-on_Lab__Built-in_Functions.md.html?origin=www.coursera.org\">Hands-on Lab: Built-in functions</a>\n\n*  <a  href=\"https://cf-courses-data.s3.us.cloud-object-storage.appdomain.cloud/IBMDeveloperSkillsNetwork-DB0201EN-SkillsNetwork/labs/Labs_Coursera_V5/labs/Lab%20-%20Sub-queries%20and%20Nested%20SELECTs%20/instructional-labs.md.html?origin=www.coursera.org\">Hands-on Lab : Sub-queries and Nested SELECT Statements</a>\n\n*   <a href=\"https://cf-courses-data.s3.us.cloud-object-storage.appdomain.cloud/IBMDeveloperSkillsNetwork-DB0201EN-SkillsNetwork/labs/Module%205/DB0201EN-Week3-1-3-SQLmagic.ipynb\">Hands-on Tutorial: Accessing Databases with SQL magic</a>\n\n*  <a href= \"https://cf-courses-data.s3.us.cloud-object-storage.appdomain.cloud/IBMDeveloperSkillsNetwork-DB0201EN-SkillsNetwork/labs/Module%205/DB0201EN-Week3-1-4-Analyzing.ipynb\">Hands-on Lab: Analyzing a real World Data Set</a>\n\n\n"
  },
  {
   "metadata": {},
   "cell_type": "markdown",
   "source": "## Author(s)\n\n<h4> Lakshmi Holla </h4>\n"
  },
  {
   "metadata": {},
   "cell_type": "markdown",
   "source": "## Other Contributors\n\n<h4> Rav Ahuja </h4>\n"
  },
  {
   "metadata": {},
   "cell_type": "markdown",
   "source": "<!--\n## Change log\n| Date | Version | Changed by | Change Description |\n|------|--------|--------|---------|\n| 2024-07-10 | 1.1 |Anita Verma | Changed Version|\n| 2021-07-09 | 0.2 |Lakshmi Holla | Changes made in magic sql|\n| 2021-05-20 | 0.1 |Lakshmi Holla | Created Initial Version |\n-->\n"
  },
  {
   "metadata": {},
   "cell_type": "markdown",
   "source": "## <h3 align=\"center\"> © IBM Corporation 2021. All rights reserved. <h3/>\n"
  }
 ],
 "metadata": {
  "kernelspec": {
   "name": "python3",
   "display_name": "Python 3",
   "language": "python"
  },
  "language_info": {
   "name": "python",
   "version": "3.10.4",
   "mimetype": "text/x-python",
   "codemirror_mode": {
    "name": "ipython",
    "version": 3
   },
   "pygments_lexer": "ipython3",
   "nbconvert_exporter": "python",
   "file_extension": ".py"
  },
  "prev_pub_hash": "12df46c3b0654f639da96fac3e05f156ee105e47e0c79adacb1892bc327713de"
 },
 "nbformat": 4,
 "nbformat_minor": 4
}