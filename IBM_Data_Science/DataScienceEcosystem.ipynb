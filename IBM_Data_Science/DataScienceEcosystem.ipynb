{
 "cells": [
  {
   "cell_type": "markdown",
   "id": "13291028-46d5-4a44-bb43-55cf1776f717",
   "metadata": {},
   "source": [
    "# Data Science Tools and Ecosystem"
   ]
  },
  {
   "cell_type": "markdown",
   "id": "30dd633a-9bbc-471f-8397-91f6b1dd5e14",
   "metadata": {},
   "source": [
    "In this notebook, Data Science Tools and Ecosystem are summarized."
   ]
  },
  {
   "cell_type": "markdown",
   "id": "23f9b5d0-b153-4179-a36d-8a8cf044a542",
   "metadata": {},
   "source": [
    "Some of the popular languages that Data Scientists use are:\n",
    "1. Python\n",
    "2. R\n",
    "3. Julia\n",
    "4. MATLAB\n",
    "5. SQL"
   ]
  },
  {
   "cell_type": "markdown",
   "id": "5692a243-884b-4cf4-af28-1acc5c58726b",
   "metadata": {},
   "source": [
    "Some of the commonly used libraries used by Data Scientists include:\n",
    "1. Pandas\n",
    "2. Numpy\n",
    "3. Sci-kit learn\n",
    "4. Tensorflow\n",
    "5. Plotly\n",
    "6. ggplot2"
   ]
  },
  {
   "cell_type": "markdown",
   "id": "cf0e1998-44ff-4c96-b452-c86dfee40ad8",
   "metadata": {},
   "source": [
    "|Data Science Tools|\n",
    "|-----|\n",
    "|GitHub Codespaces (VS Code)|\n",
    "|JupyterLab (Jupyter Notebooks)|\n",
    "|RStudio|"
   ]
  },
  {
   "cell_type": "markdown",
   "id": "08af780d-2a85-44c0-b44c-104bbfe60f39",
   "metadata": {},
   "source": [
    "### Below are a few examples of evaluating arithmetic expressions in Python"
   ]
  },
  {
   "cell_type": "code",
   "execution_count": 1,
   "id": "8f0e71f5-77c5-4603-9d3a-19340728cead",
   "metadata": {},
   "outputs": [
    {
     "data": {
      "text/plain": [
       "17"
      ]
     },
     "execution_count": 1,
     "metadata": {},
     "output_type": "execute_result"
    }
   ],
   "source": [
    "# This a [sic] simple arithmetic expression to mutiply [sic] then add integers\n",
    "\n",
    "(3*4)+5"
   ]
  },
  {
   "cell_type": "code",
   "execution_count": 2,
   "id": "b6988a34-4b53-4f2a-87a8-0441c196da8c",
   "metadata": {},
   "outputs": [
    {
     "name": "stdout",
     "output_type": "stream",
     "text": [
      "200 minutes is 3.3333333333333335 hours.\n"
     ]
    }
   ],
   "source": [
    "# This will convert 200 minutes to hours by diving [sic] by 60\n",
    "# [Student's note: The assignment is asking for this screenshot to be named '9-hourstominutes.png', despite the fact that this conversion is the reverse, from minutes to hours]\n",
    "\n",
    "hours = 200 / 60\n",
    "print(f\"200 minutes is {hours} hours.\")"
   ]
  },
  {
   "cell_type": "markdown",
   "id": "fbbc4a3f-8480-4814-ae19-ff305cd12b81",
   "metadata": {},
   "source": [
    "**Objectives:**\n",
    "- Create Markdown cells which demonstrate unique formatting, such as H1 and H2 headers, unordered and ordered lists, and a table.\n",
    "- List popular languages for Data Science.\n",
    "- List common code libraries used by Data Scientists.\n",
    "- List three \"development environment open source tools\" used in data science.\n",
    "- Demonstrate arithmetic operations in code cells."
   ]
  },
  {
   "cell_type": "markdown",
   "id": "cc54b351-0aae-40f9-aa02-1120796bccc1",
   "metadata": {},
   "source": [
    "## Author\n",
    "Peter Madsen"
   ]
  }
 ],
 "metadata": {
  "kernelspec": {
   "display_name": "Python 3 (ipykernel)",
   "language": "python",
   "name": "python3"
  },
  "language_info": {
   "codemirror_mode": {
    "name": "ipython",
    "version": 3
   },
   "file_extension": ".py",
   "mimetype": "text/x-python",
   "name": "python",
   "nbconvert_exporter": "python",
   "pygments_lexer": "ipython3",
   "version": "3.12.1"
  }
 },
 "nbformat": 4,
 "nbformat_minor": 5
}
