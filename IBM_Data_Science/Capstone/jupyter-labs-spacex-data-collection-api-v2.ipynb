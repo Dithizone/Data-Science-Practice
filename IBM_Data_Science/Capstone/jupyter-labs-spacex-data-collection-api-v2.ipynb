{
 "cells": [
  {
   "metadata": {},
   "id": "90f2350a-9fe1-4df6-902f-9d70178f402f",
   "cell_type": "markdown",
   "source": "<p style=\"text-align:center\">\n    <a href=\"https://skills.network\" target=\"_blank\">\n    <img src=\"https://cf-courses-data.s3.us.cloud-object-storage.appdomain.cloud/assets/logos/SN_web_lightmode.png\" width=\"200\" alt=\"Skills Network Logo\">\n    </a>\n</p>\n"
  },
  {
   "metadata": {},
   "id": "2483ed82-a4e4-46ae-92da-cadab80fd1ff",
   "cell_type": "markdown",
   "source": "# **SpaceX  Falcon 9 first stage Landing Prediction**\n"
  },
  {
   "metadata": {},
   "id": "f38a1403-6170-4436-81e7-b4135a5abe62",
   "cell_type": "markdown",
   "source": "# Hands-on Lab: Complete the Data Collection API Lab\n"
  },
  {
   "metadata": {},
   "id": "b0444bab-731d-4f15-af90-9f6dd830b5b3",
   "cell_type": "markdown",
   "source": "Estimated time needed: **45** minutes\n"
  },
  {
   "metadata": {},
   "id": "a3220fd6-a240-4e2a-b677-f6966182cacc",
   "cell_type": "markdown",
   "source": "In this capstone, we will predict if the Falcon 9 first stage will land successfully. SpaceX advertises Falcon 9 rocket launches on its website with a cost of 62 million dollars; other providers cost upward of 165 million dollars each, much of the savings is because SpaceX can reuse the first stage. Therefore if we can determine if the first stage will land, we can determine the cost of a launch. This information can be used if an alternate company wants to bid against SpaceX for a rocket launch. In this lab, you will collect and make sure the data is in the correct format from an API. The following is an example of a successful and launch.\n"
  },
  {
   "metadata": {},
   "id": "6a37a6cf-ae51-454e-a335-acef830ef60f",
   "cell_type": "markdown",
   "source": "![](https://cf-courses-data.s3.us.cloud-object-storage.appdomain.cloud/IBMDeveloperSkillsNetwork-DS0701EN-SkillsNetwork/lab_v2/images/landing_1.gif)\n"
  },
  {
   "metadata": {},
   "id": "9b797fc9-cecf-4a70-b6d0-646dacf8e054",
   "cell_type": "markdown",
   "source": "Several examples of an unsuccessful landing are shown here:\n"
  },
  {
   "metadata": {},
   "id": "210f5c18-58d9-4b1c-84ab-ab58e4c2e7ec",
   "cell_type": "markdown",
   "source": "![](https://cf-courses-data.s3.us.cloud-object-storage.appdomain.cloud/IBMDeveloperSkillsNetwork-DS0701EN-SkillsNetwork/lab_v2/images/crash.gif)\n"
  },
  {
   "metadata": {},
   "id": "752355bc-10c3-4c8b-a7a6-c1d88dec7ef4",
   "cell_type": "markdown",
   "source": "Most unsuccessful landings are planned. Space X performs a controlled landing in the oceans. \n"
  },
  {
   "metadata": {},
   "id": "bbd01260-2a78-4378-adfc-836acf2e6586",
   "cell_type": "markdown",
   "source": "## Objectives\n"
  },
  {
   "metadata": {},
   "id": "bce5214d-b2f1-4e6d-943e-a7f239e777e2",
   "cell_type": "markdown",
   "source": "In this lab, you will make a get request to the SpaceX API. You will also do some basic data wrangling and formating. \n\n- Request to the SpaceX API\n- Clean the requested data\n"
  },
  {
   "metadata": {},
   "id": "5010bdc5-e062-4b49-b1a8-90d095ad7e6a",
   "cell_type": "markdown",
   "source": "----\n"
  },
  {
   "metadata": {},
   "id": "5252fd23-5220-47c9-acba-c4232a567bcd",
   "cell_type": "markdown",
   "source": "Install the below libraries\n"
  },
  {
   "metadata": {
    "trusted": true
   },
   "id": "9b0483e5-677f-435a-a1d5-cf51aeb312cf",
   "cell_type": "code",
   "source": "# !pip install requests\n# !pip install pandas\n# !pip install numpy",
   "execution_count": 61,
   "outputs": []
  },
  {
   "metadata": {},
   "id": "3648562d-fb45-40d0-b499-eb8e110a3ce6",
   "cell_type": "markdown",
   "source": "## Import Libraries and Define Auxiliary Functions\n"
  },
  {
   "metadata": {},
   "id": "8c583719-ae12-4030-9f44-f2c1da6633aa",
   "cell_type": "markdown",
   "source": "We will import the following libraries into the lab\n"
  },
  {
   "metadata": {
    "trusted": true
   },
   "id": "71e820ed-31a3-4b4b-b1a9-deab7d2f3f23",
   "cell_type": "code",
   "source": "# Requests allows us to make HTTP requests which we will use to get data from an API\nimport requests\n# Pandas is a software library written for the Python programming language for data manipulation and analysis.\nimport pandas as pd\n# NumPy is a library for the Python programming language, adding support for large, multi-dimensional arrays and matrices, along with a large collection of high-level mathematical functions to operate on these arrays\nimport numpy as np\n# Datetime is a library that allows us to represent dates\nimport datetime\n\n# Setting this option will print all collumns of a dataframe\npd.set_option('display.max_columns', None)\n# Setting this option will print all of the data in a feature\npd.set_option('display.max_colwidth', None)",
   "execution_count": 62,
   "outputs": []
  },
  {
   "metadata": {},
   "id": "26690213-aa96-4be9-b94e-eb27b9e831ec",
   "cell_type": "markdown",
   "source": "Below we will define a series of helper functions that will help us use the API to extract information using identification numbers in the launch data.\n\nFrom the <code>rocket</code> column we would like to learn the booster name.\n"
  },
  {
   "metadata": {
    "trusted": true
   },
   "id": "455c2d35-9b07-4407-bc11-b3b79ee1d9c6",
   "cell_type": "code",
   "source": "# Takes the dataset and uses the rocket column to call the API and append the data to the list\ndef getBoosterVersion(data):\n    for x in data['rocket']:\n        if x:\n            response = requests.get(\"https://api.spacexdata.com/v4/rockets/\"+str(x)).json()\n            BoosterVersion.append(response['name'])",
   "execution_count": 63,
   "outputs": []
  },
  {
   "metadata": {},
   "id": "9dd12ee3-d917-4762-a0ab-a00292227ab5",
   "cell_type": "markdown",
   "source": "From the <code>launchpad</code> we would like to know the name of the launch site being used, the logitude, and the latitude.\n"
  },
  {
   "metadata": {
    "trusted": true
   },
   "id": "c1f2aa7c-d7e5-41cb-bfbe-1c862f860cf1",
   "cell_type": "code",
   "source": "# Takes the dataset and uses the launchpad column to call the API and append the data to the list\ndef getLaunchSite(data):\n    for x in data['launchpad']:\n        if x:\n            response = requests.get(\"https://api.spacexdata.com/v4/launchpads/\"+str(x)).json()\n            Longitude.append(response['longitude'])\n            Latitude.append(response['latitude'])\n            LaunchSite.append(response['name'])",
   "execution_count": 64,
   "outputs": []
  },
  {
   "metadata": {},
   "id": "9e794ccf-93dd-4ba0-8658-643d2864d13d",
   "cell_type": "markdown",
   "source": "From the <code>payload</code> we would like to learn the mass of the payload and the orbit that it is going to.\n"
  },
  {
   "metadata": {
    "trusted": true
   },
   "id": "b01d0f91-2bf7-4acf-b039-93fc5de259f0",
   "cell_type": "code",
   "source": "# Takes the dataset and uses the payloads column to call the API and append the data to the lists\ndef getPayloadData(data):\n    for load in data['payloads']:\n        if load:\n            response = requests.get(\"https://api.spacexdata.com/v4/payloads/\"+load).json()\n            PayloadMass.append(response['mass_kg'])\n            Orbit.append(response['orbit'])",
   "execution_count": 65,
   "outputs": []
  },
  {
   "metadata": {},
   "id": "e1fd7bcf-8930-4db7-8c43-20bcd71b955c",
   "cell_type": "markdown",
   "source": "From <code>cores</code> we would like to learn the outcome of the landing, the type of the landing, number of flights with that core, whether gridfins were used, wheter the core is reused, wheter legs were used, the landing pad used, the block of the core which is a number used to seperate version of cores, the number of times this specific core has been reused, and the serial of the core.\n"
  },
  {
   "metadata": {
    "trusted": true
   },
   "id": "a3ea42e4-f49a-4eb0-97e8-5adb00c2a687",
   "cell_type": "code",
   "source": "# Takes the dataset and uses the cores column to call the API and append the data to the lists\ndef getCoreData(data):\n    for core in data['cores']:\n        if core['core'] != None:\n            response = requests.get(\"https://api.spacexdata.com/v4/cores/\"+core['core']).json()\n            Block.append(response['block'])\n            ReusedCount.append(response['reuse_count'])\n            Serial.append(response['serial'])\n        else:\n            Block.append(None)\n            ReusedCount.append(None)\n            Serial.append(None)\n\n        Outcome.append(str(core['landing_success'])+' '+str(core['landing_type']))\n        Flights.append(core['flight'])\n        GridFins.append(core['gridfins'])\n        Reused.append(core['reused'])\n        Legs.append(core['legs'])\n        LandingPad.append(core['landpad'])",
   "execution_count": 66,
   "outputs": []
  },
  {
   "metadata": {},
   "id": "1a405f37-4bfe-4f0c-a609-700588d08471",
   "cell_type": "markdown",
   "source": "Now let's start requesting rocket launch data from SpaceX API with the following URL:\n"
  },
  {
   "metadata": {
    "trusted": true
   },
   "id": "8f22b9d6-bc5b-4245-9608-4f5035c14737",
   "cell_type": "code",
   "source": "spacex_url=\"https://api.spacexdata.com/v4/launches/past\"",
   "execution_count": 67,
   "outputs": []
  },
  {
   "metadata": {
    "trusted": true
   },
   "id": "7091931a-1dd0-416b-a8b6-ec814367c335",
   "cell_type": "code",
   "source": "# response = requests.get(spacex_url)",
   "execution_count": 68,
   "outputs": []
  },
  {
   "metadata": {},
   "id": "54d637c1-7f21-43e7-9561-b3bde29a6775",
   "cell_type": "markdown",
   "source": "Check the content of the response\n"
  },
  {
   "metadata": {
    "trusted": true
   },
   "id": "d4394180-a8ff-4157-a8fb-4d61b3b270ec",
   "cell_type": "code",
   "source": "# print(response.content)  # Commenting out to minimize clutter",
   "execution_count": 69,
   "outputs": []
  },
  {
   "metadata": {},
   "id": "8950eb66-433e-4e8b-b6e3-00d61ac36c24",
   "cell_type": "markdown",
   "source": "You should see the response contains massive information about SpaceX launches. Next, let's try to discover some more relevant information for this project.\n"
  },
  {
   "metadata": {},
   "id": "a0393134-a09f-4b17-939a-40d614120778",
   "cell_type": "markdown",
   "source": "### Task 1: Request and parse the SpaceX launch data using the GET request\n"
  },
  {
   "metadata": {},
   "id": "2f269dc1-bdac-49d2-8e32-418a768077c8",
   "cell_type": "markdown",
   "source": "To make the requested JSON results more consistent, we will use the following static response object for this project:\n"
  },
  {
   "metadata": {
    "trusted": true
   },
   "id": "e020745c-2108-47fa-ab33-82a22b0c37e3",
   "cell_type": "code",
   "source": "static_json_url='https://cf-courses-data.s3.us.cloud-object-storage.appdomain.cloud/IBM-DS0321EN-SkillsNetwork/datasets/API_call_spacex_api.json'  # This static json doesn't seem to ever be used.",
   "execution_count": 70,
   "outputs": []
  },
  {
   "metadata": {},
   "id": "b9df80d3-b132-46a8-906c-2803afb5d47e",
   "cell_type": "markdown",
   "source": "We should see that the request was successfull with the 200 status response code\n"
  },
  {
   "metadata": {
    "trusted": true
   },
   "id": "6c5689d0-e9f2-4d0d-819e-fbf0f468599c",
   "cell_type": "code",
   "source": "# response.status_code",
   "execution_count": 71,
   "outputs": []
  },
  {
   "metadata": {},
   "id": "9362f5d7-55dc-44c6-9e7e-06d60e5a756d",
   "cell_type": "markdown",
   "source": "Now we decode the response content as a Json using <code>.json()</code> and turn it into a Pandas dataframe using <code>.json_normalize()</code>\n"
  },
  {
   "metadata": {
    "trusted": true
   },
   "id": "be58d8e4-2d94-4e33-97b0-34711968151e",
   "cell_type": "code",
   "source": "# Use json_normalize meethod to convert the json result into a dataframe\n\n# df_spaceX = pd.json_normalize(response.json())",
   "execution_count": 72,
   "outputs": []
  },
  {
   "metadata": {},
   "id": "a0a00206-0b05-4857-9c2d-a3c2b273e837",
   "cell_type": "markdown",
   "source": "Using the dataframe <code>data</code> print the first 5 rows\n"
  },
  {
   "metadata": {
    "trusted": true
   },
   "id": "a244997a-50f6-49b7-ba4a-ea859949d841",
   "cell_type": "code",
   "source": "# Get the head of the dataframe\n\n# df_spaceX.head(5)",
   "execution_count": 73,
   "outputs": []
  },
  {
   "metadata": {},
   "id": "0e0dfa99-d220-4490-ac51-868b2602886c",
   "cell_type": "markdown",
   "source": "You will notice that a lot of the data are IDs. For example the rocket column has no information about the rocket just an identification number.\n\nWe will now use the API again to get information about the launches using the IDs given for each launch. Specifically we will be using columns <code>rocket</code>, <code>payloads</code>, <code>launchpad</code>, and <code>cores</code>.\n"
  },
  {
   "metadata": {
    "trusted": true
   },
   "id": "7956c969-a9ea-482b-8933-3fb099f3bc52",
   "cell_type": "code",
   "source": "# Lets take a subset of our dataframe keeping only the features we want and the flight number, and date_utc.\n# subset_df_spaceX = df_spaceX[['rocket', 'payloads', 'launchpad', 'cores', 'flight_number', 'date_utc']]\n\n# We will remove rows with multiple cores because those are falcon rockets with 2 extra rocket boosters and rows that have multiple payloads in a single rocket.\n# subset_df_spaceX = subset_df_spaceX[subset_df_spaceX['cores'].map(len)==1]\n# subset_df_spaceX = subset_df_spaceX[subset_df_spaceX['payloads'].map(len)==1]\n\n# Since payloads and cores are lists of size 1 we will also extract the single value in the list and replace the feature.\n# subset_df_spaceX['cores'] = subset_df_spaceX['cores'].map(lambda x : x[0])\n# subset_df_spaceX['payloads'] = subset_df_spaceX['payloads'].map(lambda x : x[0])\n\n# We also want to convert the date_utc to a datetime datatype and then extracting the date leaving the time\n# subset_df_spaceX['date'] = pd.to_datetime(subset_df_spaceX['date_utc']).dt.date\n\n# Using the date we will restrict the dates of the launches\n# subset_df_spaceX = subset_df_spaceX[subset_df_spaceX['date'] <= datetime.date(2020, 11, 13)]",
   "execution_count": 74,
   "outputs": []
  },
  {
   "metadata": {},
   "id": "dea171d8-3c2f-4e56-8d34-74d5aceea660",
   "cell_type": "markdown",
   "source": "* From the <code>rocket</code> we would like to learn the booster name\n\n* From the <code>payload</code> we would like to learn the mass of the payload and the orbit that it is going to\n\n* From the <code>launchpad</code> we would like to know the name of the launch site being used, the longitude, and the latitude.\n\n* **From <code>cores</code> we would like to learn the outcome of the landing, the type of the landing, number of flights with that core, whether gridfins were used, whether the core is reused, whether legs were used, the landing pad used, the block of the core which is a number used to seperate version of cores, the number of times this specific core has been reused, and the serial of the core.**\n\nThe data from these requests will be stored in lists and will be used to create a new dataframe.\n"
  },
  {
   "metadata": {
    "trusted": true
   },
   "id": "a72d557e-ba74-4761-aac8-7e9280125b7d",
   "cell_type": "code",
   "source": "#Global variables \nBoosterVersion = []\nPayloadMass = []\nOrbit = []\nLaunchSite = []\nOutcome = []\nFlights = []\nGridFins = []\nReused = []\nLegs = []\nLandingPad = []\nBlock = []\nReusedCount = []\nSerial = []\nLongitude = []\nLatitude = []",
   "execution_count": 75,
   "outputs": []
  },
  {
   "metadata": {},
   "id": "8b4b299c-fde3-4ad9-baff-08e898669409",
   "cell_type": "markdown",
   "source": "These functions will apply the outputs globally to the above variables. Let's take a looks at <code>BoosterVersion</code> variable. Before we apply  <code>getBoosterVersion</code> the list is empty:\n"
  },
  {
   "metadata": {
    "trusted": true
   },
   "id": "6f30865f-51f3-485a-9573-ace9fe24f73d",
   "cell_type": "code",
   "source": "BoosterVersion",
   "execution_count": 76,
   "outputs": [
    {
     "output_type": "execute_result",
     "execution_count": 76,
     "data": {
      "text/plain": "[]"
     },
     "metadata": {}
    }
   ]
  },
  {
   "metadata": {},
   "id": "1c8aedd4-630c-4973-b47d-7a2024e6f4f0",
   "cell_type": "markdown",
   "source": "Now, let's apply <code> getBoosterVersion</code> function method to get the booster version\n"
  },
  {
   "metadata": {
    "trusted": true
   },
   "id": "fc098963-4157-49fa-8977-53494a243cba",
   "cell_type": "code",
   "source": "# Call getBoosterVersion\n# getBoosterVersion(subset_df_spaceX)",
   "execution_count": 77,
   "outputs": []
  },
  {
   "metadata": {},
   "id": "cc1ec91a-60ab-432d-bb8a-0b99168b7b5b",
   "cell_type": "markdown",
   "source": "the list has now been update \n"
  },
  {
   "metadata": {
    "trusted": true
   },
   "id": "c8a65ac5-247a-4fce-b924-470d046196a0",
   "cell_type": "code",
   "source": "# BoosterVersion[0:5]",
   "execution_count": 78,
   "outputs": []
  },
  {
   "metadata": {},
   "id": "b834ec88-cc9d-4bf0-a10f-a8262705f83b",
   "cell_type": "markdown",
   "source": "we can apply the rest of the  functions here:\n"
  },
  {
   "metadata": {
    "trusted": true
   },
   "id": "20756c19-85d7-4ad8-8da4-86ee2519e611",
   "cell_type": "code",
   "source": "# Call getLaunchSite\n# getLaunchSite(subset_df_spaceX)",
   "execution_count": 79,
   "outputs": []
  },
  {
   "metadata": {
    "trusted": true
   },
   "id": "a1a0b35c-41f2-489f-b5fc-9305f4cfde17",
   "cell_type": "code",
   "source": "# Call getPayloadData\n# getPayloadData(subset_df_spaceX)",
   "execution_count": 80,
   "outputs": []
  },
  {
   "metadata": {
    "trusted": true
   },
   "id": "3f2d743f-d55e-48e5-9e1e-149cacf9ddcb",
   "cell_type": "code",
   "source": "# Call getCoreData\n# getCoreData(subset_df_spaceX)",
   "execution_count": 81,
   "outputs": []
  },
  {
   "metadata": {},
   "id": "7187e3bb-8a5f-4ead-a943-4ef8863553bc",
   "cell_type": "markdown",
   "source": "Finally lets construct our dataset using the data we have obtained. We we combine the columns into a dictionary.\n"
  },
  {
   "metadata": {
    "trusted": true
   },
   "id": "5993b181-c1dc-41c4-ba06-f378f4abc042",
   "cell_type": "code",
   "source": "# launch_dict = {'FlightNumber': list(subset_df_spaceX['flight_number']),\n#                'Date': list(subset_df_spaceX['date']),\n#                'BoosterVersion': BoosterVersion,\n#                'PayloadMass': PayloadMass,\n#                'Orbit': Orbit,\n#                'LaunchSite': LaunchSite,\n#                'Outcome': Outcome,\n#                'Flights': Flights,\n#                'GridFins': GridFins,\n#                'Reused': Reused,\n#                'Legs': Legs,\n#                'LandingPad': LandingPad,\n#                'Block': Block,\n#                'ReusedCount': ReusedCount,\n#                'Serial': Serial,\n#                'Longitude': Longitude,\n#                'Latitude': Latitude}\n",
   "execution_count": 82,
   "outputs": []
  },
  {
   "metadata": {},
   "id": "c669196c-e5f3-4755-819c-1f3224426daa",
   "cell_type": "markdown",
   "source": "Then, we need to create a Pandas data frame from the dictionary launch_dict.\n"
  },
  {
   "metadata": {
    "trusted": true
   },
   "id": "f176ddeb-c482-4a39-a5e5-76c046b3f905",
   "cell_type": "code",
   "source": "# Create a data from launch_dict\n\n# df_launches = pd.DataFrame(launch_dict)\n# df_launches.to_csv(\"launch_data.csv\")\ndf_launches = pd.read_csv(\"launch_data.csv\", index_col=0)",
   "execution_count": 83,
   "outputs": []
  },
  {
   "metadata": {},
   "id": "2b6eadb7-e360-4cb2-8eb8-41471a9f5598",
   "cell_type": "markdown",
   "source": "Show the summary of the dataframe\n"
  },
  {
   "metadata": {
    "trusted": true
   },
   "id": "5fa523a9-dc02-460d-9f50-ce2258add406",
   "cell_type": "code",
   "source": "# Show the head of the dataframe\ndf_launches.head(5)",
   "execution_count": 84,
   "outputs": [
    {
     "output_type": "execute_result",
     "execution_count": 84,
     "data": {
      "text/plain": "   FlightNumber        Date BoosterVersion  PayloadMass Orbit  \\\n0             1  2006-03-24       Falcon 1         20.0   LEO   \n1             2  2007-03-21       Falcon 1          NaN   LEO   \n2             4  2008-09-28       Falcon 1        165.0   LEO   \n3             5  2009-07-13       Falcon 1        200.0   LEO   \n4             6  2010-06-04       Falcon 9          NaN   LEO   \n\n        LaunchSite    Outcome  Flights  GridFins  Reused   Legs LandingPad  \\\n0  Kwajalein Atoll  None None        1     False   False  False        NaN   \n1  Kwajalein Atoll  None None        1     False   False  False        NaN   \n2  Kwajalein Atoll  None None        1     False   False  False        NaN   \n3  Kwajalein Atoll  None None        1     False   False  False        NaN   \n4     CCSFS SLC 40  None None        1     False   False  False        NaN   \n\n   Block  ReusedCount    Serial   Longitude   Latitude  \n0    NaN            0  Merlin1A  167.743129   9.047721  \n1    NaN            0  Merlin2A  167.743129   9.047721  \n2    NaN            0  Merlin2C  167.743129   9.047721  \n3    NaN            0  Merlin3C  167.743129   9.047721  \n4    1.0            0     B0003  -80.577366  28.561857  ",
      "text/html": "<div>\n<style scoped>\n    .dataframe tbody tr th:only-of-type {\n        vertical-align: middle;\n    }\n\n    .dataframe tbody tr th {\n        vertical-align: top;\n    }\n\n    .dataframe thead th {\n        text-align: right;\n    }\n</style>\n<table border=\"1\" class=\"dataframe\">\n  <thead>\n    <tr style=\"text-align: right;\">\n      <th></th>\n      <th>FlightNumber</th>\n      <th>Date</th>\n      <th>BoosterVersion</th>\n      <th>PayloadMass</th>\n      <th>Orbit</th>\n      <th>LaunchSite</th>\n      <th>Outcome</th>\n      <th>Flights</th>\n      <th>GridFins</th>\n      <th>Reused</th>\n      <th>Legs</th>\n      <th>LandingPad</th>\n      <th>Block</th>\n      <th>ReusedCount</th>\n      <th>Serial</th>\n      <th>Longitude</th>\n      <th>Latitude</th>\n    </tr>\n  </thead>\n  <tbody>\n    <tr>\n      <th>0</th>\n      <td>1</td>\n      <td>2006-03-24</td>\n      <td>Falcon 1</td>\n      <td>20.0</td>\n      <td>LEO</td>\n      <td>Kwajalein Atoll</td>\n      <td>None None</td>\n      <td>1</td>\n      <td>False</td>\n      <td>False</td>\n      <td>False</td>\n      <td>NaN</td>\n      <td>NaN</td>\n      <td>0</td>\n      <td>Merlin1A</td>\n      <td>167.743129</td>\n      <td>9.047721</td>\n    </tr>\n    <tr>\n      <th>1</th>\n      <td>2</td>\n      <td>2007-03-21</td>\n      <td>Falcon 1</td>\n      <td>NaN</td>\n      <td>LEO</td>\n      <td>Kwajalein Atoll</td>\n      <td>None None</td>\n      <td>1</td>\n      <td>False</td>\n      <td>False</td>\n      <td>False</td>\n      <td>NaN</td>\n      <td>NaN</td>\n      <td>0</td>\n      <td>Merlin2A</td>\n      <td>167.743129</td>\n      <td>9.047721</td>\n    </tr>\n    <tr>\n      <th>2</th>\n      <td>4</td>\n      <td>2008-09-28</td>\n      <td>Falcon 1</td>\n      <td>165.0</td>\n      <td>LEO</td>\n      <td>Kwajalein Atoll</td>\n      <td>None None</td>\n      <td>1</td>\n      <td>False</td>\n      <td>False</td>\n      <td>False</td>\n      <td>NaN</td>\n      <td>NaN</td>\n      <td>0</td>\n      <td>Merlin2C</td>\n      <td>167.743129</td>\n      <td>9.047721</td>\n    </tr>\n    <tr>\n      <th>3</th>\n      <td>5</td>\n      <td>2009-07-13</td>\n      <td>Falcon 1</td>\n      <td>200.0</td>\n      <td>LEO</td>\n      <td>Kwajalein Atoll</td>\n      <td>None None</td>\n      <td>1</td>\n      <td>False</td>\n      <td>False</td>\n      <td>False</td>\n      <td>NaN</td>\n      <td>NaN</td>\n      <td>0</td>\n      <td>Merlin3C</td>\n      <td>167.743129</td>\n      <td>9.047721</td>\n    </tr>\n    <tr>\n      <th>4</th>\n      <td>6</td>\n      <td>2010-06-04</td>\n      <td>Falcon 9</td>\n      <td>NaN</td>\n      <td>LEO</td>\n      <td>CCSFS SLC 40</td>\n      <td>None None</td>\n      <td>1</td>\n      <td>False</td>\n      <td>False</td>\n      <td>False</td>\n      <td>NaN</td>\n      <td>1.0</td>\n      <td>0</td>\n      <td>B0003</td>\n      <td>-80.577366</td>\n      <td>28.561857</td>\n    </tr>\n  </tbody>\n</table>\n</div>"
     },
     "metadata": {}
    }
   ]
  },
  {
   "metadata": {},
   "id": "3bcdf000-bead-4d57-8d7b-c3d0dd3e77bf",
   "cell_type": "markdown",
   "source": "### Task 2: Filter the dataframe to only include `Falcon 9` launches\n"
  },
  {
   "metadata": {},
   "id": "b791a310-3713-42d3-a9f3-10e37c924748",
   "cell_type": "markdown",
   "source": "Finally we will remove the Falcon 1 launches keeping only the Falcon 9 launches. Filter the data dataframe using the <code>BoosterVersion</code> column to only keep the Falcon 9 launches. Save the filtered data to a new dataframe called <code>data_falcon9</code>.\n"
  },
  {
   "metadata": {
    "trusted": true
   },
   "id": "012258be-0e8b-4f73-9c30-2a95f1526dea",
   "cell_type": "code",
   "source": "# Hint data['BoosterVersion']!='Falcon 1'\n\n# Note that `print(df_launches['BoosterVersion'].unique())` shows that the only values in the column are 'Falcon 1' and 'Falcon 9'\ndf_falcon9 = df_launches[df_launches['BoosterVersion'] == 'Falcon 9'].reset_index(drop=True)\ndf_falcon9.head(5)",
   "execution_count": 85,
   "outputs": [
    {
     "output_type": "execute_result",
     "execution_count": 85,
     "data": {
      "text/plain": "   FlightNumber        Date BoosterVersion  PayloadMass Orbit    LaunchSite  \\\n0             6  2010-06-04       Falcon 9          NaN   LEO  CCSFS SLC 40   \n1             8  2012-05-22       Falcon 9        525.0   LEO  CCSFS SLC 40   \n2            10  2013-03-01       Falcon 9        677.0   ISS  CCSFS SLC 40   \n3            11  2013-09-29       Falcon 9        500.0    PO   VAFB SLC 4E   \n4            12  2013-12-03       Falcon 9       3170.0   GTO  CCSFS SLC 40   \n\n       Outcome  Flights  GridFins  Reused   Legs LandingPad  Block  \\\n0    None None        1     False   False  False        NaN    1.0   \n1    None None        1     False   False  False        NaN    1.0   \n2    None None        1     False   False  False        NaN    1.0   \n3  False Ocean        1     False   False  False        NaN    1.0   \n4    None None        1     False   False  False        NaN    1.0   \n\n   ReusedCount Serial   Longitude   Latitude  \n0            0  B0003  -80.577366  28.561857  \n1            0  B0005  -80.577366  28.561857  \n2            0  B0007  -80.577366  28.561857  \n3            0  B1003 -120.610829  34.632093  \n4            0  B1004  -80.577366  28.561857  ",
      "text/html": "<div>\n<style scoped>\n    .dataframe tbody tr th:only-of-type {\n        vertical-align: middle;\n    }\n\n    .dataframe tbody tr th {\n        vertical-align: top;\n    }\n\n    .dataframe thead th {\n        text-align: right;\n    }\n</style>\n<table border=\"1\" class=\"dataframe\">\n  <thead>\n    <tr style=\"text-align: right;\">\n      <th></th>\n      <th>FlightNumber</th>\n      <th>Date</th>\n      <th>BoosterVersion</th>\n      <th>PayloadMass</th>\n      <th>Orbit</th>\n      <th>LaunchSite</th>\n      <th>Outcome</th>\n      <th>Flights</th>\n      <th>GridFins</th>\n      <th>Reused</th>\n      <th>Legs</th>\n      <th>LandingPad</th>\n      <th>Block</th>\n      <th>ReusedCount</th>\n      <th>Serial</th>\n      <th>Longitude</th>\n      <th>Latitude</th>\n    </tr>\n  </thead>\n  <tbody>\n    <tr>\n      <th>0</th>\n      <td>6</td>\n      <td>2010-06-04</td>\n      <td>Falcon 9</td>\n      <td>NaN</td>\n      <td>LEO</td>\n      <td>CCSFS SLC 40</td>\n      <td>None None</td>\n      <td>1</td>\n      <td>False</td>\n      <td>False</td>\n      <td>False</td>\n      <td>NaN</td>\n      <td>1.0</td>\n      <td>0</td>\n      <td>B0003</td>\n      <td>-80.577366</td>\n      <td>28.561857</td>\n    </tr>\n    <tr>\n      <th>1</th>\n      <td>8</td>\n      <td>2012-05-22</td>\n      <td>Falcon 9</td>\n      <td>525.0</td>\n      <td>LEO</td>\n      <td>CCSFS SLC 40</td>\n      <td>None None</td>\n      <td>1</td>\n      <td>False</td>\n      <td>False</td>\n      <td>False</td>\n      <td>NaN</td>\n      <td>1.0</td>\n      <td>0</td>\n      <td>B0005</td>\n      <td>-80.577366</td>\n      <td>28.561857</td>\n    </tr>\n    <tr>\n      <th>2</th>\n      <td>10</td>\n      <td>2013-03-01</td>\n      <td>Falcon 9</td>\n      <td>677.0</td>\n      <td>ISS</td>\n      <td>CCSFS SLC 40</td>\n      <td>None None</td>\n      <td>1</td>\n      <td>False</td>\n      <td>False</td>\n      <td>False</td>\n      <td>NaN</td>\n      <td>1.0</td>\n      <td>0</td>\n      <td>B0007</td>\n      <td>-80.577366</td>\n      <td>28.561857</td>\n    </tr>\n    <tr>\n      <th>3</th>\n      <td>11</td>\n      <td>2013-09-29</td>\n      <td>Falcon 9</td>\n      <td>500.0</td>\n      <td>PO</td>\n      <td>VAFB SLC 4E</td>\n      <td>False Ocean</td>\n      <td>1</td>\n      <td>False</td>\n      <td>False</td>\n      <td>False</td>\n      <td>NaN</td>\n      <td>1.0</td>\n      <td>0</td>\n      <td>B1003</td>\n      <td>-120.610829</td>\n      <td>34.632093</td>\n    </tr>\n    <tr>\n      <th>4</th>\n      <td>12</td>\n      <td>2013-12-03</td>\n      <td>Falcon 9</td>\n      <td>3170.0</td>\n      <td>GTO</td>\n      <td>CCSFS SLC 40</td>\n      <td>None None</td>\n      <td>1</td>\n      <td>False</td>\n      <td>False</td>\n      <td>False</td>\n      <td>NaN</td>\n      <td>1.0</td>\n      <td>0</td>\n      <td>B1004</td>\n      <td>-80.577366</td>\n      <td>28.561857</td>\n    </tr>\n  </tbody>\n</table>\n</div>"
     },
     "metadata": {}
    }
   ]
  },
  {
   "metadata": {},
   "id": "15018c59-9a61-4554-a215-a63159e0eebd",
   "cell_type": "markdown",
   "source": "Now that we have removed some values we should reset the FlgihtNumber column\n"
  },
  {
   "metadata": {
    "trusted": true
   },
   "id": "6534783a-6abd-43fd-9dd7-61070d8b47e1",
   "cell_type": "code",
   "source": "# df_falcon9.loc[:,'FlightNumber'] = list(range(1, df_falcon9.shape[0]+1))\n\ndf_falcon9['FlightNumber'] = range(1, len(df_falcon9) + 1)  # My way looks a lot less busy :)\ndf_falcon9.tail(5)",
   "execution_count": 86,
   "outputs": [
    {
     "output_type": "execute_result",
     "execution_count": 86,
     "data": {
      "text/plain": "    FlightNumber        Date BoosterVersion  PayloadMass Orbit    LaunchSite  \\\n85            86  2020-09-03       Falcon 9      15600.0  VLEO    KSC LC 39A   \n86            87  2020-10-06       Falcon 9      15600.0  VLEO    KSC LC 39A   \n87            88  2020-10-18       Falcon 9      15600.0  VLEO    KSC LC 39A   \n88            89  2020-10-24       Falcon 9      15600.0  VLEO  CCSFS SLC 40   \n89            90  2020-11-05       Falcon 9       3681.0   MEO  CCSFS SLC 40   \n\n      Outcome  Flights  GridFins  Reused  Legs                LandingPad  \\\n85  True ASDS        2      True    True  True  5e9e3032383ecb6bb234e7ca   \n86  True ASDS        3      True    True  True  5e9e3032383ecb6bb234e7ca   \n87  True ASDS        6      True    True  True  5e9e3032383ecb6bb234e7ca   \n88  True ASDS        3      True    True  True  5e9e3033383ecbb9e534e7cc   \n89  True ASDS        1      True   False  True  5e9e3032383ecb6bb234e7ca   \n\n    Block  ReusedCount Serial  Longitude   Latitude  \n85    5.0           12  B1060 -80.603956  28.608058  \n86    5.0           13  B1058 -80.603956  28.608058  \n87    5.0           12  B1051 -80.603956  28.608058  \n88    5.0           12  B1060 -80.577366  28.561857  \n89    5.0            8  B1062 -80.577366  28.561857  ",
      "text/html": "<div>\n<style scoped>\n    .dataframe tbody tr th:only-of-type {\n        vertical-align: middle;\n    }\n\n    .dataframe tbody tr th {\n        vertical-align: top;\n    }\n\n    .dataframe thead th {\n        text-align: right;\n    }\n</style>\n<table border=\"1\" class=\"dataframe\">\n  <thead>\n    <tr style=\"text-align: right;\">\n      <th></th>\n      <th>FlightNumber</th>\n      <th>Date</th>\n      <th>BoosterVersion</th>\n      <th>PayloadMass</th>\n      <th>Orbit</th>\n      <th>LaunchSite</th>\n      <th>Outcome</th>\n      <th>Flights</th>\n      <th>GridFins</th>\n      <th>Reused</th>\n      <th>Legs</th>\n      <th>LandingPad</th>\n      <th>Block</th>\n      <th>ReusedCount</th>\n      <th>Serial</th>\n      <th>Longitude</th>\n      <th>Latitude</th>\n    </tr>\n  </thead>\n  <tbody>\n    <tr>\n      <th>85</th>\n      <td>86</td>\n      <td>2020-09-03</td>\n      <td>Falcon 9</td>\n      <td>15600.0</td>\n      <td>VLEO</td>\n      <td>KSC LC 39A</td>\n      <td>True ASDS</td>\n      <td>2</td>\n      <td>True</td>\n      <td>True</td>\n      <td>True</td>\n      <td>5e9e3032383ecb6bb234e7ca</td>\n      <td>5.0</td>\n      <td>12</td>\n      <td>B1060</td>\n      <td>-80.603956</td>\n      <td>28.608058</td>\n    </tr>\n    <tr>\n      <th>86</th>\n      <td>87</td>\n      <td>2020-10-06</td>\n      <td>Falcon 9</td>\n      <td>15600.0</td>\n      <td>VLEO</td>\n      <td>KSC LC 39A</td>\n      <td>True ASDS</td>\n      <td>3</td>\n      <td>True</td>\n      <td>True</td>\n      <td>True</td>\n      <td>5e9e3032383ecb6bb234e7ca</td>\n      <td>5.0</td>\n      <td>13</td>\n      <td>B1058</td>\n      <td>-80.603956</td>\n      <td>28.608058</td>\n    </tr>\n    <tr>\n      <th>87</th>\n      <td>88</td>\n      <td>2020-10-18</td>\n      <td>Falcon 9</td>\n      <td>15600.0</td>\n      <td>VLEO</td>\n      <td>KSC LC 39A</td>\n      <td>True ASDS</td>\n      <td>6</td>\n      <td>True</td>\n      <td>True</td>\n      <td>True</td>\n      <td>5e9e3032383ecb6bb234e7ca</td>\n      <td>5.0</td>\n      <td>12</td>\n      <td>B1051</td>\n      <td>-80.603956</td>\n      <td>28.608058</td>\n    </tr>\n    <tr>\n      <th>88</th>\n      <td>89</td>\n      <td>2020-10-24</td>\n      <td>Falcon 9</td>\n      <td>15600.0</td>\n      <td>VLEO</td>\n      <td>CCSFS SLC 40</td>\n      <td>True ASDS</td>\n      <td>3</td>\n      <td>True</td>\n      <td>True</td>\n      <td>True</td>\n      <td>5e9e3033383ecbb9e534e7cc</td>\n      <td>5.0</td>\n      <td>12</td>\n      <td>B1060</td>\n      <td>-80.577366</td>\n      <td>28.561857</td>\n    </tr>\n    <tr>\n      <th>89</th>\n      <td>90</td>\n      <td>2020-11-05</td>\n      <td>Falcon 9</td>\n      <td>3681.0</td>\n      <td>MEO</td>\n      <td>CCSFS SLC 40</td>\n      <td>True ASDS</td>\n      <td>1</td>\n      <td>True</td>\n      <td>False</td>\n      <td>True</td>\n      <td>5e9e3032383ecb6bb234e7ca</td>\n      <td>5.0</td>\n      <td>8</td>\n      <td>B1062</td>\n      <td>-80.577366</td>\n      <td>28.561857</td>\n    </tr>\n  </tbody>\n</table>\n</div>"
     },
     "metadata": {}
    }
   ]
  },
  {
   "metadata": {},
   "id": "707c9a1d-4612-41cd-9388-0078fe004756",
   "cell_type": "markdown",
   "source": "## Data Wrangling\n"
  },
  {
   "metadata": {},
   "id": "7c403629-dc7f-4293-a0b3-660a6cbbd55c",
   "cell_type": "markdown",
   "source": "We can see below that some of the rows are missing values in our dataset.\n"
  },
  {
   "metadata": {
    "trusted": true
   },
   "id": "e7f198b6-1699-4507-92ea-7900d13a9033",
   "cell_type": "code",
   "source": "df_falcon9.isnull().sum()",
   "execution_count": 87,
   "outputs": [
    {
     "output_type": "execute_result",
     "execution_count": 87,
     "data": {
      "text/plain": "FlightNumber       0\nDate               0\nBoosterVersion     0\nPayloadMass        5\nOrbit              0\nLaunchSite         0\nOutcome            0\nFlights            0\nGridFins           0\nReused             0\nLegs               0\nLandingPad        26\nBlock              0\nReusedCount        0\nSerial             0\nLongitude          0\nLatitude           0\ndtype: int64"
     },
     "metadata": {}
    }
   ]
  },
  {
   "metadata": {},
   "id": "49ef033e-bfad-4362-8d7a-d081dd5275a6",
   "cell_type": "markdown",
   "source": "Before we can continue we must deal with these missing values. The <code>LandingPad</code> column will retain None values to represent when landing pads were not used.\n"
  },
  {
   "metadata": {},
   "id": "da17a773-6d67-4297-8a31-dd11f404a787",
   "cell_type": "markdown",
   "source": "### Task 3: Dealing with Missing Values\n"
  },
  {
   "metadata": {},
   "id": "1549aa59-6d6a-4b77-8958-aae3aed9df06",
   "cell_type": "markdown",
   "source": "Calculate below the mean for the <code>PayloadMass</code> using the <code>.mean()</code>. Then use the mean and the <code>.replace()</code> function to replace `np.nan` values in the data with the mean you calculated.\n"
  },
  {
   "metadata": {
    "trusted": true
   },
   "id": "8096fdee-02a5-4f10-abe4-c78f713c41a3",
   "cell_type": "code",
   "source": "# Calculate the mean value of PayloadMass column\nmean_PayloadMass = df_falcon9['PayloadMass'].mean()\n\n# Replace the np.nan values with its mean value\ndf_falcon9['PayloadMass'] = df_falcon9['PayloadMass'].replace(np.nan, mean_PayloadMass)",
   "execution_count": 89,
   "outputs": [
    {
     "output_type": "execute_result",
     "execution_count": 89,
     "data": {
      "text/plain": "   FlightNumber        Date BoosterVersion  PayloadMass Orbit    LaunchSite  \\\n0             1  2010-06-04       Falcon 9  6123.547647   LEO  CCSFS SLC 40   \n1             2  2012-05-22       Falcon 9   525.000000   LEO  CCSFS SLC 40   \n2             3  2013-03-01       Falcon 9   677.000000   ISS  CCSFS SLC 40   \n3             4  2013-09-29       Falcon 9   500.000000    PO   VAFB SLC 4E   \n4             5  2013-12-03       Falcon 9  3170.000000   GTO  CCSFS SLC 40   \n\n       Outcome  Flights  GridFins  Reused   Legs LandingPad  Block  \\\n0    None None        1     False   False  False        NaN    1.0   \n1    None None        1     False   False  False        NaN    1.0   \n2    None None        1     False   False  False        NaN    1.0   \n3  False Ocean        1     False   False  False        NaN    1.0   \n4    None None        1     False   False  False        NaN    1.0   \n\n   ReusedCount Serial   Longitude   Latitude  \n0            0  B0003  -80.577366  28.561857  \n1            0  B0005  -80.577366  28.561857  \n2            0  B0007  -80.577366  28.561857  \n3            0  B1003 -120.610829  34.632093  \n4            0  B1004  -80.577366  28.561857  ",
      "text/html": "<div>\n<style scoped>\n    .dataframe tbody tr th:only-of-type {\n        vertical-align: middle;\n    }\n\n    .dataframe tbody tr th {\n        vertical-align: top;\n    }\n\n    .dataframe thead th {\n        text-align: right;\n    }\n</style>\n<table border=\"1\" class=\"dataframe\">\n  <thead>\n    <tr style=\"text-align: right;\">\n      <th></th>\n      <th>FlightNumber</th>\n      <th>Date</th>\n      <th>BoosterVersion</th>\n      <th>PayloadMass</th>\n      <th>Orbit</th>\n      <th>LaunchSite</th>\n      <th>Outcome</th>\n      <th>Flights</th>\n      <th>GridFins</th>\n      <th>Reused</th>\n      <th>Legs</th>\n      <th>LandingPad</th>\n      <th>Block</th>\n      <th>ReusedCount</th>\n      <th>Serial</th>\n      <th>Longitude</th>\n      <th>Latitude</th>\n    </tr>\n  </thead>\n  <tbody>\n    <tr>\n      <th>0</th>\n      <td>1</td>\n      <td>2010-06-04</td>\n      <td>Falcon 9</td>\n      <td>6123.547647</td>\n      <td>LEO</td>\n      <td>CCSFS SLC 40</td>\n      <td>None None</td>\n      <td>1</td>\n      <td>False</td>\n      <td>False</td>\n      <td>False</td>\n      <td>NaN</td>\n      <td>1.0</td>\n      <td>0</td>\n      <td>B0003</td>\n      <td>-80.577366</td>\n      <td>28.561857</td>\n    </tr>\n    <tr>\n      <th>1</th>\n      <td>2</td>\n      <td>2012-05-22</td>\n      <td>Falcon 9</td>\n      <td>525.000000</td>\n      <td>LEO</td>\n      <td>CCSFS SLC 40</td>\n      <td>None None</td>\n      <td>1</td>\n      <td>False</td>\n      <td>False</td>\n      <td>False</td>\n      <td>NaN</td>\n      <td>1.0</td>\n      <td>0</td>\n      <td>B0005</td>\n      <td>-80.577366</td>\n      <td>28.561857</td>\n    </tr>\n    <tr>\n      <th>2</th>\n      <td>3</td>\n      <td>2013-03-01</td>\n      <td>Falcon 9</td>\n      <td>677.000000</td>\n      <td>ISS</td>\n      <td>CCSFS SLC 40</td>\n      <td>None None</td>\n      <td>1</td>\n      <td>False</td>\n      <td>False</td>\n      <td>False</td>\n      <td>NaN</td>\n      <td>1.0</td>\n      <td>0</td>\n      <td>B0007</td>\n      <td>-80.577366</td>\n      <td>28.561857</td>\n    </tr>\n    <tr>\n      <th>3</th>\n      <td>4</td>\n      <td>2013-09-29</td>\n      <td>Falcon 9</td>\n      <td>500.000000</td>\n      <td>PO</td>\n      <td>VAFB SLC 4E</td>\n      <td>False Ocean</td>\n      <td>1</td>\n      <td>False</td>\n      <td>False</td>\n      <td>False</td>\n      <td>NaN</td>\n      <td>1.0</td>\n      <td>0</td>\n      <td>B1003</td>\n      <td>-120.610829</td>\n      <td>34.632093</td>\n    </tr>\n    <tr>\n      <th>4</th>\n      <td>5</td>\n      <td>2013-12-03</td>\n      <td>Falcon 9</td>\n      <td>3170.000000</td>\n      <td>GTO</td>\n      <td>CCSFS SLC 40</td>\n      <td>None None</td>\n      <td>1</td>\n      <td>False</td>\n      <td>False</td>\n      <td>False</td>\n      <td>NaN</td>\n      <td>1.0</td>\n      <td>0</td>\n      <td>B1004</td>\n      <td>-80.577366</td>\n      <td>28.561857</td>\n    </tr>\n  </tbody>\n</table>\n</div>"
     },
     "metadata": {}
    }
   ]
  },
  {
   "metadata": {},
   "id": "2f49a5c2-059d-4192-8b43-26e772b37b9d",
   "cell_type": "markdown",
   "source": "You should see the number of missing values of the <code>PayLoadMass</code> change to zero.\n"
  },
  {
   "metadata": {},
   "id": "811cea36-dca4-4542-8967-d92c19ce1ab8",
   "cell_type": "markdown",
   "source": "Now we should have no missing values in our dataset except for in <code>LandingPad</code>.\n"
  },
  {
   "metadata": {
    "trusted": true
   },
   "cell_type": "code",
   "source": "df_falcon9.isnull().sum()",
   "execution_count": 91,
   "outputs": [
    {
     "output_type": "execute_result",
     "execution_count": 91,
     "data": {
      "text/plain": "FlightNumber       0\nDate               0\nBoosterVersion     0\nPayloadMass        0\nOrbit              0\nLaunchSite         0\nOutcome            0\nFlights            0\nGridFins           0\nReused             0\nLegs               0\nLandingPad        26\nBlock              0\nReusedCount        0\nSerial             0\nLongitude          0\nLatitude           0\ndtype: int64"
     },
     "metadata": {}
    }
   ]
  },
  {
   "metadata": {},
   "id": "aa1ce3eb-797c-4aec-ac9d-4d0144c939ad",
   "cell_type": "markdown",
   "source": "We can now export it to a <b>CSV</b> for the next section,but to make the answers consistent, in the next lab we will provide data in a pre-selected date range. \n"
  },
  {
   "metadata": {
    "trusted": true
   },
   "cell_type": "code",
   "source": "df_falcon9.to_csv('dataset_part_1.csv', index=False)",
   "execution_count": 93,
   "outputs": []
  },
  {
   "metadata": {},
   "id": "855d6ceb-3993-4109-ba4b-14ed3f72640b",
   "cell_type": "markdown",
   "source": "## Authors\n"
  },
  {
   "metadata": {},
   "id": "e5ce263a-ae2c-42b8-8bd4-a892197e5db1",
   "cell_type": "markdown",
   "source": "<a href=\"https://www.linkedin.com/in/joseph-s-50398b136/\">Joseph Santarcangelo</a> has a PhD in Electrical Engineering, his research focused on using machine learning, signal processing, and computer vision to determine how videos impact human cognition. Joseph has been working for IBM since he completed his PhD. \n"
  },
  {
   "metadata": {},
   "id": "9817ac59-f467-4625-8f49-706e8e5ce591",
   "cell_type": "markdown",
   "source": "<!--## Change Log\n-->\n"
  },
  {
   "metadata": {},
   "id": "d09cd8bb-be59-4674-8423-ba8b075c7467",
   "cell_type": "markdown",
   "source": "<!--\n\n|Date (YYYY-MM-DD)|Version|Changed By|Change Description|\n|-|-|-|-|\n|2020-09-20|1.1|Joseph|get result each time you run|\n|2020-09-20|1.1|Azim |Created Part 1 Lab using SpaceX API|\n|2020-09-20|1.0|Joseph |Modified Multiple Areas|\n-->\n"
  },
  {
   "metadata": {},
   "id": "ea305a80-1f46-4ebf-bf6c-165c215661f8",
   "cell_type": "markdown",
   "source": "Copyright © 2021 IBM Corporation. All rights reserved.\n"
  }
 ],
 "metadata": {
  "kernelspec": {
   "name": "python3",
   "display_name": "Python 3",
   "language": "python"
  },
  "language_info": {
   "name": "python",
   "version": "3.10.4",
   "mimetype": "text/x-python",
   "codemirror_mode": {
    "name": "ipython",
    "version": 3
   },
   "pygments_lexer": "ipython3",
   "nbconvert_exporter": "python",
   "file_extension": ".py"
  },
  "prev_pub_hash": "92824028eda7944e05c2baeff74c9c993a71bef91bed7cfa139749fe49c6405a"
 },
 "nbformat": 4,
 "nbformat_minor": 4
}