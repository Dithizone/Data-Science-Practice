{
 "cells": [
  {
   "cell_type": "markdown",
   "id": "6f0954b7-1cd3-430a-bd1e-807a9431fb92",
   "metadata": {},
   "source": [
    "# Jupyter Notebook Testing"
   ]
  },
  {
   "cell_type": "code",
   "execution_count": 1,
   "id": "eec59d2d-164b-4174-aded-1f5af8f71c92",
   "metadata": {},
   "outputs": [
    {
     "name": "stdout",
     "output_type": "stream",
     "text": [
      "Will this actually work?\n"
     ]
    }
   ],
   "source": [
    "import pandas as pd\n",
    "import numpy as np\n",
    "\n",
    "print(\"Will this actually work?\")"
   ]
  },
  {
   "cell_type": "code",
   "execution_count": null,
   "id": "1aa20a11-00cd-4e4f-846d-c07877d51e7d",
   "metadata": {},
   "outputs": [],
   "source": []
  }
 ],
 "metadata": {
  "kernelspec": {
   "display_name": "Python 3 (ipykernel)",
   "language": "python",
   "name": "python3"
  },
  "language_info": {
   "codemirror_mode": {
    "name": "ipython",
    "version": 3
   },
   "file_extension": ".py",
   "mimetype": "text/x-python",
   "name": "python",
   "nbconvert_exporter": "python",
   "pygments_lexer": "ipython3",
   "version": "3.12.1"
  }
 },
 "nbformat": 4,
 "nbformat_minor": 5
}
